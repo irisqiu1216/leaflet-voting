{
 "cells": [
  {
   "cell_type": "code",
   "execution_count": 1,
   "id": "0f32d36f-993c-477c-9cfa-6a38c3be7b65",
   "metadata": {
    "tags": []
   },
   "outputs": [],
   "source": [
    "import pandas as pd\n",
    "from bs4 import BeautifulSoup\n",
    "import requests\n",
    "from selenium import webdriver\n",
    "from selenium.webdriver.chrome.options import Options\n",
    "from selenium.webdriver.chrome.service import Service"
   ]
  },
  {
   "cell_type": "code",
   "execution_count": 2,
   "id": "4bd9bee8-cb6d-49f4-8922-64fb8123f054",
   "metadata": {
    "tags": []
   },
   "outputs": [],
   "source": [
    "driver=webdriver.Chrome()\n",
    "\n",
    "driver.get(\"https://alamedacountyca.gov/rov_app/vcalist\")\n",
    "\n",
    "webpage = driver.page_source\n",
    "\n",
    "driver.quit()"
   ]
  },
  {
   "cell_type": "code",
   "execution_count": 3,
   "id": "333f4213-e1df-4203-9aa5-2d2a0d3f4281",
   "metadata": {
    "tags": []
   },
   "outputs": [],
   "source": [
    "soup = BeautifulSoup(webpage,'html.parser') #structure the html that can be found "
   ]
  },
  {
   "cell_type": "code",
   "execution_count": 4,
   "id": "f929b605-dd21-4d68-b12f-85941131e306",
   "metadata": {
    "tags": []
   },
   "outputs": [
    {
     "name": "stdout",
     "output_type": "stream",
     "text": [
      "                ID Locatoin                                   Address   \n",
      "0   Precinct000021      NaN               2152 Central Avenue Alameda  \\\n",
      "1   Precinct000022      NaN                 1815 Union Street Alameda   \n",
      "2   Precinct000023      NaN                  1912 Central Ave Alameda   \n",
      "3   Precinct000024      NaN                      2130 Otis Dr Alameda   \n",
      "4   Precinct000025      NaN  555 Ralph Appezzato Memorial Pwy Alameda   \n",
      "..             ...      ...                                       ...   \n",
      "95  Precinct000019      NaN              945 Paseo Grande San Lorenzo   \n",
      "96  Precinct000020      NaN              33520 Western Ave Union City   \n",
      "97  Precinct000098      NaN          31224 Union City Blvd Union City   \n",
      "98  Precinct000099      NaN                       703 C St Union City   \n",
      "99  Precinct000100      NaN              2801 Hop Ranch Rd Union City   \n",
      "\n",
      "                                  Voting Days   \n",
      "0    Availability\\n\\t\\t\\t\\t\\t\\t\\t\\t\\t\\t4-Days  \\\n",
      "1    Availability\\n\\t\\t\\t\\t\\t\\t\\t\\t\\t\\t4-Days   \n",
      "2    Availability\\n\\t\\t\\t\\t\\t\\t\\t\\t\\t\\t4-Days   \n",
      "3    Availability\\n\\t\\t\\t\\t\\t\\t\\t\\t\\t\\t4-Days   \n",
      "4    Availability\\n\\t\\t\\t\\t\\t\\t\\t\\t\\t\\t4-Days   \n",
      "..                                        ...   \n",
      "95  Availability\\n\\t\\t\\t\\t\\t\\t\\t\\t\\t\\t11-Days   \n",
      "96  Availability\\n\\t\\t\\t\\t\\t\\t\\t\\t\\t\\t11-Days   \n",
      "97   Availability\\n\\t\\t\\t\\t\\t\\t\\t\\t\\t\\t4-Days   \n",
      "98   Availability\\n\\t\\t\\t\\t\\t\\t\\t\\t\\t\\t4-Days   \n",
      "99   Availability\\n\\t\\t\\t\\t\\t\\t\\t\\t\\t\\t4-Days   \n",
      "\n",
      "                                             Location  \n",
      "0   Location\\n\\t\\t\\t\\t\\t\\t\\t\\t\\t\\tCalifornia Histo...  \n",
      "1   Location\\n\\t\\t\\t\\t\\t\\t\\t\\t\\t\\tBohol Circle Inc...  \n",
      "2   Location\\n\\t\\t\\t\\t\\t\\t\\t\\t\\t\\t1st Congregation...  \n",
      "3    Location\\n\\t\\t\\t\\t\\t\\t\\t\\t\\t\\tSouth Shore Center  \n",
      "4    Location\\n\\t\\t\\t\\t\\t\\t\\t\\t\\t\\tCollege Of Alameda  \n",
      "..                                                ...  \n",
      "95  Location\\n\\t\\t\\t\\t\\t\\t\\t\\t\\t\\tDf Wesleyan Chur...  \n",
      "96  Location\\n\\t\\t\\t\\t\\t\\t\\t\\t\\t\\tUnion City Apost...  \n",
      "97  Location\\n\\t\\t\\t\\t\\t\\t\\t\\t\\t\\tThe Mark Green S...  \n",
      "98  Location\\n\\t\\t\\t\\t\\t\\t\\t\\t\\t\\tOur Lady Of The ...  \n",
      "99  Location\\n\\t\\t\\t\\t\\t\\t\\t\\t\\t\\tCesar Chavez Mid...  \n",
      "\n",
      "[100 rows x 5 columns]\n"
     ]
    }
   ],
   "source": [
    "span_holding_all_tables = soup.find('span',{\"id\":\"pollingLocationsDiv\"})\n",
    "\n",
    "df = pd.DataFrame(columns=[\"ID\", \"Locatoin\", \"Address\",\"Voting Days\"])\n",
    "\n",
    "# Iterate through each table within the span\n",
    "for span_table in span_holding_all_tables.find_all(\"table\"):\n",
    "    tbody = span_table.find(\"tbody\")\n",
    "    if tbody:  # Ensure tbody exists\n",
    "        rows = tbody.find_all(\"tr\")  # Get all rows\n",
    "        \n",
    "        for row in rows:\n",
    "            cells = row.find_all(\"td\")  # Get all cells in the row\n",
    "            if len(cells) >= 4:  # Ensure there are enough cells\n",
    "                id_ = cells[0].text.strip()\n",
    "                location = cells[1].text.strip()\n",
    "                address = cells[2].find(\"a\").text.strip() if cells[2].find(\"a\") else cells[2].text.strip()\n",
    "                voting_days = cells[3].text.strip()\n",
    "                \n",
    "                # Append the data to the DataFrame\n",
    "                df = pd.concat([df, pd.DataFrame({\"ID\": [id_],\n",
    "                                                  \"Location\": [location],\n",
    "                                                  \"Address\": [address],\n",
    "                                                  \"Voting Days\": [voting_days]})], ignore_index=True)\n",
    "\n",
    "# Display the resulting DataFrame\n",
    "print(df)"
   ]
  },
  {
   "cell_type": "code",
   "execution_count": 5,
   "id": "8f17f59a-e5de-455a-bfa9-ada376d75599",
   "metadata": {
    "tags": []
   },
   "outputs": [
    {
     "name": "stdout",
     "output_type": "stream",
     "text": [
      "                ID Locatoin                                   Address   \n",
      "0   Precinct000021      NaN               2152 Central Avenue Alameda  \\\n",
      "1   Precinct000022      NaN                 1815 Union Street Alameda   \n",
      "2   Precinct000023      NaN                  1912 Central Ave Alameda   \n",
      "3   Precinct000024      NaN                      2130 Otis Dr Alameda   \n",
      "4   Precinct000025      NaN  555 Ralph Appezzato Memorial Pwy Alameda   \n",
      "..             ...      ...                                       ...   \n",
      "95  Precinct000019      NaN              945 Paseo Grande San Lorenzo   \n",
      "96  Precinct000020      NaN              33520 Western Ave Union City   \n",
      "97  Precinct000098      NaN          31224 Union City Blvd Union City   \n",
      "98  Precinct000099      NaN                       703 C St Union City   \n",
      "99  Precinct000100      NaN              2801 Hop Ranch Rd Union City   \n",
      "\n",
      "             Voting Days                                          Location  \n",
      "0    Availability 4-Days      Location California Historical Radio Society  \n",
      "1    Availability 4-Days                Location Bohol Circle Incorporated  \n",
      "2    Availability 4-Days         Location 1st Congregational Ch Of Alameda  \n",
      "3    Availability 4-Days                       Location South Shore Center  \n",
      "4    Availability 4-Days                       Location College Of Alameda  \n",
      "..                   ...                                               ...  \n",
      "95  Availability 11-Days  Location Df Wesleyan Church Of Tongan In America  \n",
      "96  Availability 11-Days              Location Union City Apostolic Church  \n",
      "97   Availability 4-Days             Location The Mark Green Sports Center  \n",
      "98   Availability 4-Days            Location Our Lady Of The Rosary Church  \n",
      "99   Availability 4-Days               Location Cesar Chavez Middle School  \n",
      "\n",
      "[100 rows x 5 columns]\n"
     ]
    }
   ],
   "source": [
    "# get rid of useless words\n",
    "df[\"Voting Days\"] = df[\"Voting Days\"].str.replace(r'\\s+', ' ', regex=True).str.strip()\n",
    "\n",
    "\n",
    "df[\"Location\"] = df[\"Location\"].str.replace(r'\\s+', ' ', regex=True).str.strip()\n",
    "\n",
    "\n",
    "df[\"Address\"] = df[\"Address\"].str.replace(r'\\s+', ' ', regex=True).str.strip()\n",
    "\n",
    "print(df)"
   ]
  },
  {
   "cell_type": "code",
   "execution_count": 6,
   "id": "68dbf634-62a5-421b-8f38-658b27b0ec2c",
   "metadata": {
    "tags": []
   },
   "outputs": [],
   "source": [
    "# Remove the redundant \"Location \" from the start of each value in the Location column\n",
    "df['Location'] = df['Location'].str.replace(r'^Location\\s*', '', regex=True)\n",
    "\n",
    "df['Voting Days'] = df['Voting Days'].str.replace(r'^Availability\\s*', '', regex=True)"
   ]
  },
  {
   "cell_type": "code",
   "execution_count": 7,
   "id": "c7c4407a-12b4-4d81-a4bc-03b36f6447a6",
   "metadata": {
    "tags": []
   },
   "outputs": [
    {
     "name": "stdout",
     "output_type": "stream",
     "text": [
      "                ID Locatoin                                   Address   \n",
      "0   Precinct000021      NaN               2152 Central Avenue Alameda  \\\n",
      "1   Precinct000022      NaN                 1815 Union Street Alameda   \n",
      "2   Precinct000023      NaN                  1912 Central Ave Alameda   \n",
      "3   Precinct000024      NaN                      2130 Otis Dr Alameda   \n",
      "4   Precinct000025      NaN  555 Ralph Appezzato Memorial Pwy Alameda   \n",
      "..             ...      ...                                       ...   \n",
      "95  Precinct000019      NaN              945 Paseo Grande San Lorenzo   \n",
      "96  Precinct000020      NaN              33520 Western Ave Union City   \n",
      "97  Precinct000098      NaN          31224 Union City Blvd Union City   \n",
      "98  Precinct000099      NaN                       703 C St Union City   \n",
      "99  Precinct000100      NaN              2801 Hop Ranch Rd Union City   \n",
      "\n",
      "   Voting Days                                 Location  \n",
      "0       4-Days      California Historical Radio Society  \n",
      "1       4-Days                Bohol Circle Incorporated  \n",
      "2       4-Days         1st Congregational Ch Of Alameda  \n",
      "3       4-Days                       South Shore Center  \n",
      "4       4-Days                       College Of Alameda  \n",
      "..         ...                                      ...  \n",
      "95     11-Days  Df Wesleyan Church Of Tongan In America  \n",
      "96     11-Days              Union City Apostolic Church  \n",
      "97      4-Days             The Mark Green Sports Center  \n",
      "98      4-Days            Our Lady Of The Rosary Church  \n",
      "99      4-Days               Cesar Chavez Middle School  \n",
      "\n",
      "[100 rows x 5 columns]\n"
     ]
    }
   ],
   "source": [
    "print(df)"
   ]
  },
  {
   "cell_type": "code",
   "execution_count": 8,
   "id": "76c818a1-ba7d-41e9-9db6-2b6f4d098654",
   "metadata": {
    "tags": []
   },
   "outputs": [
    {
     "name": "stdout",
     "output_type": "stream",
     "text": [
      "               ID                                   Address Voting Days   \n",
      "0  Precinct000021               2152 Central Avenue Alameda      4-Days  \\\n",
      "1  Precinct000022                 1815 Union Street Alameda      4-Days   \n",
      "2  Precinct000023                  1912 Central Ave Alameda      4-Days   \n",
      "3  Precinct000024                      2130 Otis Dr Alameda      4-Days   \n",
      "4  Precinct000025  555 Ralph Appezzato Memorial Pwy Alameda      4-Days   \n",
      "\n",
      "                              Location  \n",
      "0  California Historical Radio Society  \n",
      "1            Bohol Circle Incorporated  \n",
      "2     1st Congregational Ch Of Alameda  \n",
      "3                   South Shore Center  \n",
      "4                   College Of Alameda  \n"
     ]
    }
   ],
   "source": [
    "# Drop the incorrect \"Locatoin\" column\n",
    "df.drop(columns=[\"Locatoin\"], inplace=True)\n",
    "\n",
    "# Verify the result\n",
    "print(df.head())"
   ]
  },
  {
   "cell_type": "code",
   "execution_count": 10,
   "id": "c28a2125-6c9d-4a6d-99fb-546e63af09ab",
   "metadata": {
    "tags": []
   },
   "outputs": [],
   "source": [
    "df = pd.DataFrame(df)"
   ]
  },
  {
   "cell_type": "code",
   "execution_count": 11,
   "id": "7b58f4b8-9d2b-4695-9c3d-28cd6954d6a8",
   "metadata": {
    "tags": []
   },
   "outputs": [
    {
     "data": {
      "text/html": [
       "<div>\n",
       "<style scoped>\n",
       "    .dataframe tbody tr th:only-of-type {\n",
       "        vertical-align: middle;\n",
       "    }\n",
       "\n",
       "    .dataframe tbody tr th {\n",
       "        vertical-align: top;\n",
       "    }\n",
       "\n",
       "    .dataframe thead th {\n",
       "        text-align: right;\n",
       "    }\n",
       "</style>\n",
       "<table border=\"1\" class=\"dataframe\">\n",
       "  <thead>\n",
       "    <tr style=\"text-align: right;\">\n",
       "      <th></th>\n",
       "      <th>ID</th>\n",
       "      <th>Address</th>\n",
       "      <th>Voting Days</th>\n",
       "      <th>Location</th>\n",
       "    </tr>\n",
       "  </thead>\n",
       "  <tbody>\n",
       "    <tr>\n",
       "      <th>0</th>\n",
       "      <td>Precinct000021</td>\n",
       "      <td>2152 Central Avenue Alameda</td>\n",
       "      <td>4-Days</td>\n",
       "      <td>California Historical Radio Society</td>\n",
       "    </tr>\n",
       "    <tr>\n",
       "      <th>1</th>\n",
       "      <td>Precinct000022</td>\n",
       "      <td>1815 Union Street Alameda</td>\n",
       "      <td>4-Days</td>\n",
       "      <td>Bohol Circle Incorporated</td>\n",
       "    </tr>\n",
       "    <tr>\n",
       "      <th>2</th>\n",
       "      <td>Precinct000023</td>\n",
       "      <td>1912 Central Ave Alameda</td>\n",
       "      <td>4-Days</td>\n",
       "      <td>1st Congregational Ch Of Alameda</td>\n",
       "    </tr>\n",
       "    <tr>\n",
       "      <th>3</th>\n",
       "      <td>Precinct000024</td>\n",
       "      <td>2130 Otis Dr Alameda</td>\n",
       "      <td>4-Days</td>\n",
       "      <td>South Shore Center</td>\n",
       "    </tr>\n",
       "    <tr>\n",
       "      <th>4</th>\n",
       "      <td>Precinct000025</td>\n",
       "      <td>555 Ralph Appezzato Memorial Pwy Alameda</td>\n",
       "      <td>4-Days</td>\n",
       "      <td>College Of Alameda</td>\n",
       "    </tr>\n",
       "    <tr>\n",
       "      <th>...</th>\n",
       "      <td>...</td>\n",
       "      <td>...</td>\n",
       "      <td>...</td>\n",
       "      <td>...</td>\n",
       "    </tr>\n",
       "    <tr>\n",
       "      <th>95</th>\n",
       "      <td>Precinct000019</td>\n",
       "      <td>945 Paseo Grande San Lorenzo</td>\n",
       "      <td>11-Days</td>\n",
       "      <td>Df Wesleyan Church Of Tongan In America</td>\n",
       "    </tr>\n",
       "    <tr>\n",
       "      <th>96</th>\n",
       "      <td>Precinct000020</td>\n",
       "      <td>33520 Western Ave Union City</td>\n",
       "      <td>11-Days</td>\n",
       "      <td>Union City Apostolic Church</td>\n",
       "    </tr>\n",
       "    <tr>\n",
       "      <th>97</th>\n",
       "      <td>Precinct000098</td>\n",
       "      <td>31224 Union City Blvd Union City</td>\n",
       "      <td>4-Days</td>\n",
       "      <td>The Mark Green Sports Center</td>\n",
       "    </tr>\n",
       "    <tr>\n",
       "      <th>98</th>\n",
       "      <td>Precinct000099</td>\n",
       "      <td>703 C St Union City</td>\n",
       "      <td>4-Days</td>\n",
       "      <td>Our Lady Of The Rosary Church</td>\n",
       "    </tr>\n",
       "    <tr>\n",
       "      <th>99</th>\n",
       "      <td>Precinct000100</td>\n",
       "      <td>2801 Hop Ranch Rd Union City</td>\n",
       "      <td>4-Days</td>\n",
       "      <td>Cesar Chavez Middle School</td>\n",
       "    </tr>\n",
       "  </tbody>\n",
       "</table>\n",
       "<p>100 rows × 4 columns</p>\n",
       "</div>"
      ],
      "text/plain": [
       "                ID                                   Address Voting Days   \n",
       "0   Precinct000021               2152 Central Avenue Alameda      4-Days  \\\n",
       "1   Precinct000022                 1815 Union Street Alameda      4-Days   \n",
       "2   Precinct000023                  1912 Central Ave Alameda      4-Days   \n",
       "3   Precinct000024                      2130 Otis Dr Alameda      4-Days   \n",
       "4   Precinct000025  555 Ralph Appezzato Memorial Pwy Alameda      4-Days   \n",
       "..             ...                                       ...         ...   \n",
       "95  Precinct000019              945 Paseo Grande San Lorenzo     11-Days   \n",
       "96  Precinct000020              33520 Western Ave Union City     11-Days   \n",
       "97  Precinct000098          31224 Union City Blvd Union City      4-Days   \n",
       "98  Precinct000099                       703 C St Union City      4-Days   \n",
       "99  Precinct000100              2801 Hop Ranch Rd Union City      4-Days   \n",
       "\n",
       "                                   Location  \n",
       "0       California Historical Radio Society  \n",
       "1                 Bohol Circle Incorporated  \n",
       "2          1st Congregational Ch Of Alameda  \n",
       "3                        South Shore Center  \n",
       "4                        College Of Alameda  \n",
       "..                                      ...  \n",
       "95  Df Wesleyan Church Of Tongan In America  \n",
       "96              Union City Apostolic Church  \n",
       "97             The Mark Green Sports Center  \n",
       "98            Our Lady Of The Rosary Church  \n",
       "99               Cesar Chavez Middle School  \n",
       "\n",
       "[100 rows x 4 columns]"
      ]
     },
     "execution_count": 11,
     "metadata": {},
     "output_type": "execute_result"
    }
   ],
   "source": [
    "df"
   ]
  },
  {
   "cell_type": "code",
   "execution_count": 12,
   "id": "da59c172-c4a3-431c-84ef-761ea3d979b8",
   "metadata": {
    "tags": []
   },
   "outputs": [
    {
     "name": "stdout",
     "output_type": "stream",
     "text": [
      "CSV file has been saved as 'precincts_data.csv'\n"
     ]
    }
   ],
   "source": [
    "# Export the DataFrame to a CSV file\n",
    "df.to_csv('precincts_data.csv', index=False)\n",
    "\n",
    "print(\"CSV file has been saved as 'precincts_data.csv'\")"
   ]
  },
  {
   "cell_type": "code",
   "execution_count": null,
   "id": "4d81361f-b9a8-4d46-a888-be385d190fb0",
   "metadata": {},
   "outputs": [],
   "source": []
  }
 ],
 "metadata": {
  "kernelspec": {
   "display_name": "Python 3 (ipykernel)",
   "language": "python",
   "name": "python3"
  },
  "language_info": {
   "codemirror_mode": {
    "name": "ipython",
    "version": 3
   },
   "file_extension": ".py",
   "mimetype": "text/x-python",
   "name": "python",
   "nbconvert_exporter": "python",
   "pygments_lexer": "ipython3",
   "version": "3.8.16"
  }
 },
 "nbformat": 4,
 "nbformat_minor": 5
}
